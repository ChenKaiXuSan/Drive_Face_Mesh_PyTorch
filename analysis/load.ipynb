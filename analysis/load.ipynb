{
 "cells": [
  {
   "cell_type": "code",
   "execution_count": 2,
   "id": "2615ecc1",
   "metadata": {},
   "outputs": [],
   "source": [
    "# load npz \n",
    "import numpy as np\n",
    "flag = \"front.npz\"\n",
    "path = f\"/workspace/data/mesh/01/夜多/npz/{flag}\"\n",
    "split_path = f\"/workspace/data/npz_debug/test_person/test_environment/npz/{flag}\"\n",
    "data = np.load(path, allow_pickle=True)"
   ]
  },
  {
   "cell_type": "code",
   "execution_count": 3,
   "id": "0f0561be",
   "metadata": {},
   "outputs": [],
   "source": [
    "info = data['1'].item()\n",
    "raw_frame = info[\"raw_frame\"]\n",
    "mesh = info[\"mesh\"]\n",
    "video_info = info[\"video_info\"]\n",
    "video_path = info[\"video_path\"]"
   ]
  },
  {
   "cell_type": "code",
   "execution_count": 9,
   "id": "36d54356",
   "metadata": {},
   "outputs": [
    {
     "name": "stdout",
     "output_type": "stream",
     "text": [
      "(224, 332, 3)\n"
     ]
    },
    {
     "ename": "TypeError",
     "evalue": "'NoneType' object is not subscriptable",
     "output_type": "error",
     "traceback": [
      "\u001b[0;31m---------------------------------------------------------------------------\u001b[0m",
      "\u001b[0;31mTypeError\u001b[0m                                 Traceback (most recent call last)",
      "Cell \u001b[0;32mIn[9], line 2\u001b[0m\n\u001b[1;32m      1\u001b[0m \u001b[38;5;28mprint\u001b[39m(raw_frame\u001b[38;5;241m.\u001b[39mshape)\n\u001b[0;32m----> 2\u001b[0m \u001b[38;5;28mprint\u001b[39m(\u001b[43mmesh\u001b[49m\u001b[43m[\u001b[49m\u001b[38;5;241;43m144\u001b[39;49m\u001b[43m]\u001b[49m\u001b[38;5;241m.\u001b[39mshape)\n",
      "\u001b[0;31mTypeError\u001b[0m: 'NoneType' object is not subscriptable"
     ]
    }
   ],
   "source": [
    "print(raw_frame.shape)\n",
    "print(mesh[144].shape)"
   ]
  },
  {
   "cell_type": "code",
   "execution_count": 11,
   "id": "02c8710c",
   "metadata": {},
   "outputs": [],
   "source": [
    "# split data to split_path\n",
    "split_dict = {}\n",
    "for f in data.files:\n",
    "    split_dict[f] = data[f].item()\n",
    "    if int(f) > 2000:\n",
    "        break"
   ]
  },
  {
   "cell_type": "code",
   "execution_count": 12,
   "id": "8901d125",
   "metadata": {},
   "outputs": [],
   "source": [
    "np.savez_compressed(split_path, **split_dict)"
   ]
  }
 ],
 "metadata": {
  "kernelspec": {
   "display_name": "base",
   "language": "python",
   "name": "python3"
  },
  "language_info": {
   "codemirror_mode": {
    "name": "ipython",
    "version": 3
   },
   "file_extension": ".py",
   "mimetype": "text/x-python",
   "name": "python",
   "nbconvert_exporter": "python",
   "pygments_lexer": "ipython3",
   "version": "3.10.13"
  }
 },
 "nbformat": 4,
 "nbformat_minor": 5
}
