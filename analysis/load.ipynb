{
 "cells": [
  {
   "cell_type": "code",
   "execution_count": 2,
   "id": "2615ecc1",
   "metadata": {},
   "outputs": [
    {
     "ename": "FileNotFoundError",
     "evalue": "[Errno 2] No such file or directory: '/workspace/data/mesh/01/夜多/npz/front.npz.npz'",
     "output_type": "error",
     "traceback": [
      "\u001b[0;31m---------------------------------------------------------------------------\u001b[0m",
      "\u001b[0;31mFileNotFoundError\u001b[0m                         Traceback (most recent call last)",
      "Cell \u001b[0;32mIn[2], line 6\u001b[0m\n\u001b[1;32m      4\u001b[0m path \u001b[38;5;241m=\u001b[39m \u001b[38;5;124mf\u001b[39m\u001b[38;5;124m\"\u001b[39m\u001b[38;5;124m/workspace/data/mesh/01/夜多/npz/\u001b[39m\u001b[38;5;132;01m{\u001b[39;00mflag\u001b[38;5;132;01m}\u001b[39;00m\u001b[38;5;124m.npz\u001b[39m\u001b[38;5;124m\"\u001b[39m\n\u001b[1;32m      5\u001b[0m split_path \u001b[38;5;241m=\u001b[39m \u001b[38;5;124mf\u001b[39m\u001b[38;5;124m\"\u001b[39m\u001b[38;5;124m/workspace/data/npz_debug/test_person/test_environment/npz/\u001b[39m\u001b[38;5;132;01m{\u001b[39;00mflag\u001b[38;5;132;01m}\u001b[39;00m\u001b[38;5;124m.npz\u001b[39m\u001b[38;5;124m\"\u001b[39m\n\u001b[0;32m----> 6\u001b[0m data \u001b[38;5;241m=\u001b[39m \u001b[43mnp\u001b[49m\u001b[38;5;241;43m.\u001b[39;49m\u001b[43mload\u001b[49m\u001b[43m(\u001b[49m\u001b[43mpath\u001b[49m\u001b[43m,\u001b[49m\u001b[43m \u001b[49m\u001b[43mallow_pickle\u001b[49m\u001b[38;5;241;43m=\u001b[39;49m\u001b[38;5;28;43;01mTrue\u001b[39;49;00m\u001b[43m)\u001b[49m\n",
      "File \u001b[0;32m/opt/conda/lib/python3.10/site-packages/numpy/lib/npyio.py:427\u001b[0m, in \u001b[0;36mload\u001b[0;34m(file, mmap_mode, allow_pickle, fix_imports, encoding, max_header_size)\u001b[0m\n\u001b[1;32m    425\u001b[0m     own_fid \u001b[38;5;241m=\u001b[39m \u001b[38;5;28;01mFalse\u001b[39;00m\n\u001b[1;32m    426\u001b[0m \u001b[38;5;28;01melse\u001b[39;00m:\n\u001b[0;32m--> 427\u001b[0m     fid \u001b[38;5;241m=\u001b[39m stack\u001b[38;5;241m.\u001b[39menter_context(\u001b[38;5;28;43mopen\u001b[39;49m\u001b[43m(\u001b[49m\u001b[43mos_fspath\u001b[49m\u001b[43m(\u001b[49m\u001b[43mfile\u001b[49m\u001b[43m)\u001b[49m\u001b[43m,\u001b[49m\u001b[43m \u001b[49m\u001b[38;5;124;43m\"\u001b[39;49m\u001b[38;5;124;43mrb\u001b[39;49m\u001b[38;5;124;43m\"\u001b[39;49m\u001b[43m)\u001b[49m)\n\u001b[1;32m    428\u001b[0m     own_fid \u001b[38;5;241m=\u001b[39m \u001b[38;5;28;01mTrue\u001b[39;00m\n\u001b[1;32m    430\u001b[0m \u001b[38;5;66;03m# Code to distinguish from NumPy binary files and pickles.\u001b[39;00m\n",
      "\u001b[0;31mFileNotFoundError\u001b[0m: [Errno 2] No such file or directory: '/workspace/data/mesh/01/夜多/npz/front.npz.npz'"
     ]
    }
   ],
   "source": [
    "# load npz \n",
    "import numpy as np\n",
    "flag = \"front.npz\"\n",
    "path = f\"/workspace/data/mesh/01/夜多/npz/{flag}.npz\"\n",
    "split_path = f\"/workspace/data/npz_debug/test_person/test_environment/npz/{flag}.npz\"\n",
    "data = np.load(path, allow_pickle=True)"
   ]
  },
  {
   "cell_type": "code",
   "execution_count": null,
   "id": "0f0561be",
   "metadata": {},
   "outputs": [],
   "source": [
    "info = data['1'].item()\n",
    "raw_frame = info[\"raw_frame\"]\n",
    "mesh = info[\"mesh\"]\n",
    "video_info = info[\"video_info\"]\n",
    "video_path = info[\"video_path\"]"
   ]
  },
  {
   "cell_type": "code",
   "execution_count": null,
   "id": "36d54356",
   "metadata": {},
   "outputs": [
    {
     "data": {
      "text/plain": [
       "-0.06307128"
      ]
     },
     "execution_count": 12,
     "metadata": {},
     "output_type": "execute_result"
    }
   ],
   "source": [
    "data['144'].item()['mesh'].min()"
   ]
  },
  {
   "cell_type": "code",
   "execution_count": null,
   "id": "02c8710c",
   "metadata": {},
   "outputs": [],
   "source": [
    "# split data to split_path\n",
    "for flag in ['front', 'left', 'right']:\n",
    "\n",
    "    path = f\"/workspace/data/mesh/01/夜多/npz/{flag}.npz\"\n",
    "    split_path = f\"/workspace/data/npz_debug/test_person/test_environment/npz/{flag}.npz\"\n",
    "\n",
    "    data = np.load(path, allow_pickle=True)\n",
    "\n",
    "    split_dict = {}\n",
    "    for f in data.files:\n",
    "        split_dict[f] = data[f].item()\n",
    "        if int(f) > 2000:\n",
    "            break\n",
    "        \n",
    "    np.savez_compressed(split_path, **split_dict)\n",
    "    "
   ]
  },
  {
   "cell_type": "code",
   "execution_count": null,
   "id": "4ef5400b",
   "metadata": {},
   "outputs": [
    {
     "data": {
      "text/plain": [
       "(1, 478, 3)"
      ]
     },
     "execution_count": 20,
     "metadata": {},
     "output_type": "execute_result"
    }
   ],
   "source": [
    "split_data = np.load(split_path, allow_pickle=True)\n",
    "split_info = split_data['146'].item()\n",
    "split_raw_mesh = split_info[\"mesh\"]\n",
    "split_raw_mesh.shape"
   ]
  },
  {
   "cell_type": "code",
   "execution_count": 5,
   "id": "01c9ee38",
   "metadata": {},
   "outputs": [],
   "source": [
    "# load 3d mesh \n",
    "mesh_3d_path = \"/workspace/code/logs/triangulated/2025-10-19/02-33-37/test_person/test_environment/3d_joints/frame_0003.npy\"\n",
    "mesh_3d = np.load(mesh_3d_path, allow_pickle=True)\n"
   ]
  },
  {
   "cell_type": "code",
   "execution_count": 11,
   "id": "74af0a09",
   "metadata": {},
   "outputs": [
    {
     "data": {
      "text/plain": [
       "(478, 3)"
      ]
     },
     "execution_count": 11,
     "metadata": {},
     "output_type": "execute_result"
    }
   ],
   "source": [
    "mesh_3d.item()['joints_3d'].shape"
   ]
  },
  {
   "cell_type": "code",
   "execution_count": 13,
   "id": "eb5cd9bb",
   "metadata": {},
   "outputs": [
    {
     "data": {
      "text/plain": [
       "{'frame': 3,\n",
       " 'num_joints': 478,\n",
       " 'joints_3d': array([[-0.03301819, -0.25445758,  1.649976  ],\n",
       "        [-0.04498615, -0.21664667,  1.66079479],\n",
       "        [-0.0422433 , -0.22133662,  1.6581877 ],\n",
       "        ...,\n",
       "        [-0.06991353, -0.39531514,  1.63696663],\n",
       "        [-0.06071156, -0.40086962,  1.63149802],\n",
       "        [-0.06745458, -0.3923485 ,  1.62110533]]),\n",
       " 'rt_info': {'front': {'R': array([[-1.,  0.,  0.],\n",
       "          [-0., -0., -1.],\n",
       "          [ 0., -1.,  0.]]),\n",
       "   't': array([0.  , 1.5 , 0.62]),\n",
       "   'C': array([0.  , 0.62, 1.5 ])},\n",
       "  'left': {'R': array([[-0.9112902 , -0.41176471,  0.        ],\n",
       "          [-0.        , -0.        , -1.        ],\n",
       "          [ 0.41176471, -0.9112902 ,  0.        ]]),\n",
       "   't': array([-1.19106686e-17,  1.50000000e+00,  8.50000000e-01]),\n",
       "   'C': array([-0.35      ,  0.77459667,  1.5       ])},\n",
       "  'right': {'R': array([[-0.9112902 ,  0.41176471,  0.        ],\n",
       "          [-0.        , -0.        , -1.        ],\n",
       "          [-0.41176471, -0.9112902 ,  0.        ]]),\n",
       "   't': array([1.19106686e-17, 1.50000000e+00, 8.50000000e-01]),\n",
       "   'C': array([0.35      , 0.77459667, 1.5       ])}},\n",
       " 'K': {'front': array([[239.78649184,   0.        , 164.77354628],\n",
       "         [  0.        , 239.88974108, 121.89394748],\n",
       "         [  0.        ,   0.        ,   1.        ]]),\n",
       "  'left': array([[244.94052471,   0.        , 161.74176715],\n",
       "         [  0.        , 240.50117859, 119.67718453],\n",
       "         [  0.        ,   0.        ,   1.        ]]),\n",
       "  'right': array([[256.36883672,   0.        , 163.96082824],\n",
       "         [  0.        , 249.60100186, 102.85485442],\n",
       "         [  0.        ,   0.        ,   1.        ]])},\n",
       " 'video_path': {'front': '/workspace/data/videos/test_person/test_environment/front.mp4',\n",
       "  'left': '/workspace/data/videos/test_person/test_environment/left.mp4',\n",
       "  'right': '/workspace/data/videos/test_person/test_environment/right.mp4'},\n",
       " 'npz_path': {'front': '/workspace/data/npz_debug/test_person/test_environment/npz/front.npz',\n",
       "  'left': '/workspace/data/npz_debug/test_person/test_environment/npz/left.npz',\n",
       "  'right': '/workspace/data/npz_debug/test_person/test_environment/npz/right.npz'}}"
      ]
     },
     "execution_count": 13,
     "metadata": {},
     "output_type": "execute_result"
    }
   ],
   "source": [
    "mesh_3d.item()"
   ]
  },
  {
   "cell_type": "code",
   "execution_count": null,
   "id": "ff40d3e9",
   "metadata": {},
   "outputs": [],
   "source": []
  }
 ],
 "metadata": {
  "kernelspec": {
   "display_name": "base",
   "language": "python",
   "name": "python3"
  },
  "language_info": {
   "codemirror_mode": {
    "name": "ipython",
    "version": 3
   },
   "file_extension": ".py",
   "mimetype": "text/x-python",
   "name": "python",
   "nbconvert_exporter": "python",
   "pygments_lexer": "ipython3",
   "version": "3.10.13"
  }
 },
 "nbformat": 4,
 "nbformat_minor": 5
}
