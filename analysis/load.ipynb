{
 "cells": [
  {
   "cell_type": "code",
   "execution_count": null,
   "id": "2615ecc1",
   "metadata": {},
   "outputs": [],
   "source": [
    "# load npz \n",
    "import numpy as np\n",
    "flag = \"front.npz\"\n",
    "path = f\"/workspace/data/mesh/01/夜多/npz/{flag}.npz\"\n",
    "split_path = f\"/workspace/data/npz_debug/test_person/test_environment/npz/{flag}.npz\"\n",
    "data = np.load(path, allow_pickle=True)"
   ]
  },
  {
   "cell_type": "code",
   "execution_count": 2,
   "id": "0f0561be",
   "metadata": {},
   "outputs": [],
   "source": [
    "info = data['1'].item()\n",
    "raw_frame = info[\"raw_frame\"]\n",
    "mesh = info[\"mesh\"]\n",
    "video_info = info[\"video_info\"]\n",
    "video_path = info[\"video_path\"]"
   ]
  },
  {
   "cell_type": "code",
   "execution_count": 12,
   "id": "36d54356",
   "metadata": {},
   "outputs": [
    {
     "data": {
      "text/plain": [
       "-0.06307128"
      ]
     },
     "execution_count": 12,
     "metadata": {},
     "output_type": "execute_result"
    }
   ],
   "source": [
    "data['144'].item()['mesh'].min()"
   ]
  },
  {
   "cell_type": "code",
   "execution_count": 13,
   "id": "02c8710c",
   "metadata": {},
   "outputs": [],
   "source": [
    "# split data to split_path\n",
    "for flag in ['front', 'left', 'right']:\n",
    "\n",
    "    path = f\"/workspace/data/mesh/01/夜多/npz/{flag}.npz\"\n",
    "    split_path = f\"/workspace/data/npz_debug/test_person/test_environment/npz/{flag}.npz\"\n",
    "\n",
    "    data = np.load(path, allow_pickle=True)\n",
    "\n",
    "    split_dict = {}\n",
    "    for f in data.files:\n",
    "        split_dict[f] = data[f].item()\n",
    "        if int(f) > 2000:\n",
    "            break\n",
    "        \n",
    "    np.savez_compressed(split_path, **split_dict)\n",
    "    "
   ]
  },
  {
   "cell_type": "code",
   "execution_count": 20,
   "id": "4ef5400b",
   "metadata": {},
   "outputs": [
    {
     "data": {
      "text/plain": [
       "(1, 478, 3)"
      ]
     },
     "execution_count": 20,
     "metadata": {},
     "output_type": "execute_result"
    }
   ],
   "source": [
    "split_data = np.load(split_path, allow_pickle=True)\n",
    "split_info = split_data['146'].item()\n",
    "split_raw_mesh = split_info[\"mesh\"]\n",
    "split_raw_mesh.shape"
   ]
  }
 ],
 "metadata": {
  "kernelspec": {
   "display_name": "base",
   "language": "python",
   "name": "python3"
  },
  "language_info": {
   "codemirror_mode": {
    "name": "ipython",
    "version": 3
   },
   "file_extension": ".py",
   "mimetype": "text/x-python",
   "name": "python",
   "nbconvert_exporter": "python",
   "pygments_lexer": "ipython3",
   "version": "3.10.13"
  }
 },
 "nbformat": 4,
 "nbformat_minor": 5
}
