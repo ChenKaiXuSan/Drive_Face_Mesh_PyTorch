{
 "cells": [
  {
   "cell_type": "code",
   "execution_count": 9,
   "id": "2615ecc1",
   "metadata": {},
   "outputs": [],
   "source": [
    "# load npz \n",
    "import numpy as np\n",
    "path = \"/workspace/data/npz_debug/test_person/test_environment/right.npz\"\n",
    "split_path = path.replace(\".npz\", \"_split.npz\")\n",
    "data = np.load(path, allow_pickle=True)"
   ]
  },
  {
   "cell_type": "code",
   "execution_count": 10,
   "id": "0f0561be",
   "metadata": {},
   "outputs": [],
   "source": [
    "info = data['1'].item()\n",
    "raw_frame = info[\"raw_frame\"]\n",
    "mesh = info[\"mesh\"]\n",
    "video_info = info[\"video_info\"]\n",
    "video_path = info[\"video_path\"]"
   ]
  },
  {
   "cell_type": "code",
   "execution_count": 11,
   "id": "02c8710c",
   "metadata": {},
   "outputs": [],
   "source": [
    "# split data to split_path\n",
    "split_dict = {}\n",
    "for f in data.files:\n",
    "    split_dict[f] = data[f].item()\n",
    "    if int(f) > 2000:\n",
    "        break"
   ]
  },
  {
   "cell_type": "code",
   "execution_count": 12,
   "id": "8901d125",
   "metadata": {},
   "outputs": [],
   "source": [
    "np.savez_compressed(split_path, **split_dict)"
   ]
  }
 ],
 "metadata": {
  "kernelspec": {
   "display_name": "base",
   "language": "python",
   "name": "python3"
  },
  "language_info": {
   "codemirror_mode": {
    "name": "ipython",
    "version": 3
   },
   "file_extension": ".py",
   "mimetype": "text/x-python",
   "name": "python",
   "nbconvert_exporter": "python",
   "pygments_lexer": "ipython3",
   "version": "3.10.13"
  }
 },
 "nbformat": 4,
 "nbformat_minor": 5
}
