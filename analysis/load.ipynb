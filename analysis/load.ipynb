{
 "cells": [
  {
   "cell_type": "code",
   "execution_count": 1,
   "id": "2615ecc1",
   "metadata": {},
   "outputs": [],
   "source": [
    "# load npz \n",
    "import numpy as np\n",
    "path = \"/workspace/data/mesh/01/夜多/npz/front.npz\"\n",
    "data = np.load(path, allow_pickle=True)"
   ]
  },
  {
   "cell_type": "code",
   "execution_count": 2,
   "id": "7c4502a8",
   "metadata": {},
   "outputs": [
    {
     "data": {
      "text/plain": [
       "array({'raw_frame': array([[[179, 170, 166],\n",
       "        [113, 104, 100],\n",
       "        [ 96,  86,  90],\n",
       "        ...,\n",
       "        [ 61,  79, 119],\n",
       "        [ 39,  36,  63],\n",
       "        [ 16,  13,  40]],\n",
       "\n",
       "       [[157, 148, 144],\n",
       "        [ 86,  77,  73],\n",
       "        [ 64,  54,  58],\n",
       "        ...,\n",
       "        [ 53,  71, 111],\n",
       "        [ 35,  32,  59],\n",
       "        [ 15,  12,  39]],\n",
       "\n",
       "       [[144, 133, 142],\n",
       "        [ 67,  56,  65],\n",
       "        [ 38,  26,  42],\n",
       "        ...,\n",
       "        [ 44,  66, 107],\n",
       "        [ 30,  30,  56],\n",
       "        [ 14,  14,  40]],\n",
       "\n",
       "       ...,\n",
       "\n",
       "       [[109, 117, 133],\n",
       "        [ 88,  96, 112],\n",
       "        [ 71,  86,  93],\n",
       "        ...,\n",
       "        [ 68,  85,  80],\n",
       "        [ 24,  40,  38],\n",
       "        [  7,  23,  21]],\n",
       "\n",
       "       [[ 91, 100, 143],\n",
       "        [ 81,  90, 133],\n",
       "        [ 76,  87, 125],\n",
       "        ...,\n",
       "        [ 55,  79,  81],\n",
       "        [ 15,  37,  41],\n",
       "        [  1,  23,  27]],\n",
       "\n",
       "       [[ 66,  75, 118],\n",
       "        [ 64,  73, 116],\n",
       "        [ 65,  76, 114],\n",
       "        ...,\n",
       "        [ 51,  75,  77],\n",
       "        [ 13,  35,  39],\n",
       "        [  0,  22,  26]]], dtype=uint8), 'mesh': None, 'video_info': {'fps': 30.0, 'width': 332, 'height': 224}, 'video_path': '/workspace/data/videos/01/夜多/front.mp4'},\n",
       "      dtype=object)"
      ]
     },
     "execution_count": 2,
     "metadata": {},
     "output_type": "execute_result"
    }
   ],
   "source": [
    "data['1']"
   ]
  },
  {
   "cell_type": "code",
   "execution_count": 7,
   "id": "0f0561be",
   "metadata": {},
   "outputs": [],
   "source": [
    "info = data['1'].item()\n",
    "raw_frame = info[\"raw_frame\"]\n",
    "mesh = info[\"mesh\"]\n",
    "video_info = info[\"video_info\"]\n",
    "video_path = info[\"video_path\"]"
   ]
  },
  {
   "cell_type": "code",
   "execution_count": 8,
   "id": "8901d125",
   "metadata": {},
   "outputs": [
    {
     "data": {
      "text/plain": [
       "((224, 332, 3),\n",
       " {'fps': 30.0, 'width': 332, 'height': 224},\n",
       " '/workspace/data/videos/01/夜多/front.mp4')"
      ]
     },
     "execution_count": 8,
     "metadata": {},
     "output_type": "execute_result"
    }
   ],
   "source": [
    "raw_frame.shape, video_info, video_path"
   ]
  }
 ],
 "metadata": {
  "kernelspec": {
   "display_name": "base",
   "language": "python",
   "name": "python3"
  },
  "language_info": {
   "codemirror_mode": {
    "name": "ipython",
    "version": 3
   },
   "file_extension": ".py",
   "mimetype": "text/x-python",
   "name": "python",
   "nbconvert_exporter": "python",
   "pygments_lexer": "ipython3",
   "version": "3.10.13"
  }
 },
 "nbformat": 4,
 "nbformat_minor": 5
}
